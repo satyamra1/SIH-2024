{
 "cells": [
  {
   "cell_type": "code",
   "execution_count": 1,
   "id": "073143f0-ca45-45ee-a726-06c8c285fd6d",
   "metadata": {},
   "outputs": [],
   "source": [
    "import pandas as pd\n",
    "import numpy as np\n",
    "import seaborn as sns\n",
    "import matplotlib.pyplot as plt\n",
    "import sklearn.metrics as classification\n",
    "from sklearn import metrics\n",
    "from sklearn import tree"
   ]
  },
  {
   "cell_type": "code",
   "execution_count": 2,
   "id": "6a53afbc-f033-47f6-b2d2-47ce8c912b1d",
   "metadata": {},
   "outputs": [],
   "source": [
    "df=pd.read_csv('Season.csv')"
   ]
  },
  {
   "cell_type": "code",
   "execution_count": 3,
   "id": "5bce3579-d040-436c-8795-aaba35292c75",
   "metadata": {},
   "outputs": [
    {
     "data": {
      "text/html": [
       "<div>\n",
       "<style scoped>\n",
       "    .dataframe tbody tr th:only-of-type {\n",
       "        vertical-align: middle;\n",
       "    }\n",
       "\n",
       "    .dataframe tbody tr th {\n",
       "        vertical-align: top;\n",
       "    }\n",
       "\n",
       "    .dataframe thead th {\n",
       "        text-align: right;\n",
       "    }\n",
       "</style>\n",
       "<table border=\"1\" class=\"dataframe\">\n",
       "  <thead>\n",
       "    <tr style=\"text-align: right;\">\n",
       "      <th></th>\n",
       "      <th>Unnamed: 0</th>\n",
       "      <th>food_items</th>\n",
       "      <th>season</th>\n",
       "      <th>min_prize</th>\n",
       "      <th>max_prize</th>\n",
       "      <th>date</th>\n",
       "      <th>model prize</th>\n",
       "    </tr>\n",
       "  </thead>\n",
       "  <tbody>\n",
       "    <tr>\n",
       "      <th>0</th>\n",
       "      <td>0</td>\n",
       "      <td>Gram</td>\n",
       "      <td>Spring</td>\n",
       "      <td>63.72</td>\n",
       "      <td>86.09</td>\n",
       "      <td>2022-09-27</td>\n",
       "      <td>74.905</td>\n",
       "    </tr>\n",
       "    <tr>\n",
       "      <th>1</th>\n",
       "      <td>1</td>\n",
       "      <td>Onion</td>\n",
       "      <td>Monsoon</td>\n",
       "      <td>42.06</td>\n",
       "      <td>57.28</td>\n",
       "      <td>2023-02-21</td>\n",
       "      <td>49.670</td>\n",
       "    </tr>\n",
       "    <tr>\n",
       "      <th>2</th>\n",
       "      <td>2</td>\n",
       "      <td>Vanaspati oil</td>\n",
       "      <td>Spring</td>\n",
       "      <td>169.66</td>\n",
       "      <td>208.63</td>\n",
       "      <td>2023-07-22</td>\n",
       "      <td>189.145</td>\n",
       "    </tr>\n",
       "    <tr>\n",
       "      <th>3</th>\n",
       "      <td>3</td>\n",
       "      <td>Gram</td>\n",
       "      <td>Monsoon</td>\n",
       "      <td>60.94</td>\n",
       "      <td>91.31</td>\n",
       "      <td>2022-12-30</td>\n",
       "      <td>76.125</td>\n",
       "    </tr>\n",
       "    <tr>\n",
       "      <th>4</th>\n",
       "      <td>4</td>\n",
       "      <td>Groundnut oil</td>\n",
       "      <td>Monsoon</td>\n",
       "      <td>197.46</td>\n",
       "      <td>206.10</td>\n",
       "      <td>2023-10-28</td>\n",
       "      <td>201.780</td>\n",
       "    </tr>\n",
       "  </tbody>\n",
       "</table>\n",
       "</div>"
      ],
      "text/plain": [
       "   Unnamed: 0     food_items   season  min_prize  max_prize        date  \\\n",
       "0           0           Gram   Spring      63.72      86.09  2022-09-27   \n",
       "1           1          Onion  Monsoon      42.06      57.28  2023-02-21   \n",
       "2           2  Vanaspati oil   Spring     169.66     208.63  2023-07-22   \n",
       "3           3           Gram  Monsoon      60.94      91.31  2022-12-30   \n",
       "4           4  Groundnut oil  Monsoon     197.46     206.10  2023-10-28   \n",
       "\n",
       "   model prize  \n",
       "0       74.905  \n",
       "1       49.670  \n",
       "2      189.145  \n",
       "3       76.125  \n",
       "4      201.780  "
      ]
     },
     "execution_count": 3,
     "metadata": {},
     "output_type": "execute_result"
    }
   ],
   "source": [
    "df.head()"
   ]
  },
  {
   "cell_type": "code",
   "execution_count": 4,
   "id": "f40e4e2d-810f-4cb7-b64a-685a69bcc714",
   "metadata": {},
   "outputs": [],
   "source": [
    "df=df.drop(columns=(\"Unnamed: 0\"))"
   ]
  },
  {
   "cell_type": "code",
   "execution_count": 5,
   "id": "33e7f641-4bd1-4d0f-91c7-565ebd8f71c9",
   "metadata": {},
   "outputs": [
    {
     "data": {
      "text/html": [
       "<div>\n",
       "<style scoped>\n",
       "    .dataframe tbody tr th:only-of-type {\n",
       "        vertical-align: middle;\n",
       "    }\n",
       "\n",
       "    .dataframe tbody tr th {\n",
       "        vertical-align: top;\n",
       "    }\n",
       "\n",
       "    .dataframe thead th {\n",
       "        text-align: right;\n",
       "    }\n",
       "</style>\n",
       "<table border=\"1\" class=\"dataframe\">\n",
       "  <thead>\n",
       "    <tr style=\"text-align: right;\">\n",
       "      <th></th>\n",
       "      <th>food_items</th>\n",
       "      <th>season</th>\n",
       "      <th>min_prize</th>\n",
       "      <th>max_prize</th>\n",
       "      <th>date</th>\n",
       "      <th>model prize</th>\n",
       "    </tr>\n",
       "  </thead>\n",
       "  <tbody>\n",
       "    <tr>\n",
       "      <th>0</th>\n",
       "      <td>Gram</td>\n",
       "      <td>Spring</td>\n",
       "      <td>63.72</td>\n",
       "      <td>86.09</td>\n",
       "      <td>2022-09-27</td>\n",
       "      <td>74.905</td>\n",
       "    </tr>\n",
       "    <tr>\n",
       "      <th>1</th>\n",
       "      <td>Onion</td>\n",
       "      <td>Monsoon</td>\n",
       "      <td>42.06</td>\n",
       "      <td>57.28</td>\n",
       "      <td>2023-02-21</td>\n",
       "      <td>49.670</td>\n",
       "    </tr>\n",
       "    <tr>\n",
       "      <th>2</th>\n",
       "      <td>Vanaspati oil</td>\n",
       "      <td>Spring</td>\n",
       "      <td>169.66</td>\n",
       "      <td>208.63</td>\n",
       "      <td>2023-07-22</td>\n",
       "      <td>189.145</td>\n",
       "    </tr>\n",
       "    <tr>\n",
       "      <th>3</th>\n",
       "      <td>Gram</td>\n",
       "      <td>Monsoon</td>\n",
       "      <td>60.94</td>\n",
       "      <td>91.31</td>\n",
       "      <td>2022-12-30</td>\n",
       "      <td>76.125</td>\n",
       "    </tr>\n",
       "    <tr>\n",
       "      <th>4</th>\n",
       "      <td>Groundnut oil</td>\n",
       "      <td>Monsoon</td>\n",
       "      <td>197.46</td>\n",
       "      <td>206.10</td>\n",
       "      <td>2023-10-28</td>\n",
       "      <td>201.780</td>\n",
       "    </tr>\n",
       "    <tr>\n",
       "      <th>...</th>\n",
       "      <td>...</td>\n",
       "      <td>...</td>\n",
       "      <td>...</td>\n",
       "      <td>...</td>\n",
       "      <td>...</td>\n",
       "      <td>...</td>\n",
       "    </tr>\n",
       "    <tr>\n",
       "      <th>2195</th>\n",
       "      <td>Sugar</td>\n",
       "      <td>Monsoon</td>\n",
       "      <td>41.01</td>\n",
       "      <td>58.55</td>\n",
       "      <td>2024-06-08</td>\n",
       "      <td>49.780</td>\n",
       "    </tr>\n",
       "    <tr>\n",
       "      <th>2196</th>\n",
       "      <td>Atta</td>\n",
       "      <td>Monsoon</td>\n",
       "      <td>38.76</td>\n",
       "      <td>51.95</td>\n",
       "      <td>2023-10-04</td>\n",
       "      <td>45.355</td>\n",
       "    </tr>\n",
       "    <tr>\n",
       "      <th>2197</th>\n",
       "      <td>Tea</td>\n",
       "      <td>Winter</td>\n",
       "      <td>104.34</td>\n",
       "      <td>153.85</td>\n",
       "      <td>2023-08-09</td>\n",
       "      <td>129.095</td>\n",
       "    </tr>\n",
       "    <tr>\n",
       "      <th>2198</th>\n",
       "      <td>Gram</td>\n",
       "      <td>Spring</td>\n",
       "      <td>62.48</td>\n",
       "      <td>77.04</td>\n",
       "      <td>2024-07-13</td>\n",
       "      <td>69.760</td>\n",
       "    </tr>\n",
       "    <tr>\n",
       "      <th>2199</th>\n",
       "      <td>Salt</td>\n",
       "      <td>Monsoon</td>\n",
       "      <td>10.07</td>\n",
       "      <td>32.86</td>\n",
       "      <td>2022-08-26</td>\n",
       "      <td>21.465</td>\n",
       "    </tr>\n",
       "  </tbody>\n",
       "</table>\n",
       "<p>2200 rows × 6 columns</p>\n",
       "</div>"
      ],
      "text/plain": [
       "         food_items   season  min_prize  max_prize        date  model prize\n",
       "0              Gram   Spring      63.72      86.09  2022-09-27       74.905\n",
       "1             Onion  Monsoon      42.06      57.28  2023-02-21       49.670\n",
       "2     Vanaspati oil   Spring     169.66     208.63  2023-07-22      189.145\n",
       "3              Gram  Monsoon      60.94      91.31  2022-12-30       76.125\n",
       "4     Groundnut oil  Monsoon     197.46     206.10  2023-10-28      201.780\n",
       "...             ...      ...        ...        ...         ...          ...\n",
       "2195          Sugar  Monsoon      41.01      58.55  2024-06-08       49.780\n",
       "2196           Atta  Monsoon      38.76      51.95  2023-10-04       45.355\n",
       "2197            Tea   Winter     104.34     153.85  2023-08-09      129.095\n",
       "2198           Gram   Spring      62.48      77.04  2024-07-13       69.760\n",
       "2199           Salt  Monsoon      10.07      32.86  2022-08-26       21.465\n",
       "\n",
       "[2200 rows x 6 columns]"
      ]
     },
     "execution_count": 5,
     "metadata": {},
     "output_type": "execute_result"
    }
   ],
   "source": [
    "df"
   ]
  },
  {
   "cell_type": "code",
   "execution_count": 6,
   "id": "e2f50215-82cf-4a18-b8b1-579ed412784f",
   "metadata": {},
   "outputs": [],
   "source": [
    "X = df.iloc[:, :-2]\n",
    "y = df['model prize']"
   ]
  },
  {
   "cell_type": "code",
   "execution_count": 7,
   "id": "a914e337-8492-4a7f-a5f6-300a540af803",
   "metadata": {},
   "outputs": [],
   "source": [
    "X=X.values"
   ]
  },
  {
   "cell_type": "code",
   "execution_count": 8,
   "id": "a9b798da-ec27-40fd-9eda-dcb90a33749e",
   "metadata": {},
   "outputs": [],
   "source": [
    "from sklearn.model_selection import train_test_split\n",
    "X_train, X_test, y_train, y_test = train_test_split(X, y, train_size=0.8, random_state=0, shuffle=True)"
   ]
  },
  {
   "cell_type": "code",
   "execution_count": 9,
   "id": "7c24a95a-b47c-4816-b448-be7012637d78",
   "metadata": {},
   "outputs": [],
   "source": [
    "from sklearn.preprocessing import OneHotEncoder\n",
    "from sklearn.compose import ColumnTransformer\n",
    "from sklearn.preprocessing import StandardScaler\n",
    "ohe = OneHotEncoder(drop='first',sparse_output=False)\n",
    "scale = StandardScaler()\n",
    "\n",
    "preprocesser = ColumnTransformer(\n",
    "        transformers = [\n",
    "            ('StandardScale', scale, [2, 3]),\n",
    "            ('OHE', ohe, [0,1]),\n",
    "        ],\n",
    "        remainder='passthrough'\n",
    ")"
   ]
  },
  {
   "cell_type": "code",
   "execution_count": 10,
   "id": "4d5e2f27-de7b-4122-857a-69cfa62b17ed",
   "metadata": {},
   "outputs": [],
   "source": [
    "X_train_dummy = preprocesser.fit_transform(X_train)\n",
    "X_test_dummy = preprocesser.transform(X_test)"
   ]
  },
  {
   "cell_type": "code",
   "execution_count": 11,
   "id": "75e7a07e-80f4-4a73-8bdf-446ec708730e",
   "metadata": {},
   "outputs": [
    {
     "data": {
      "text/plain": [
       "array(['StandardScale__x2', 'StandardScale__x3', 'OHE__x0_Gram',\n",
       "       'OHE__x0_Groundnut oil', 'OHE__x0_Gur', 'OHE__x0_Masur',\n",
       "       'OHE__x0_Milk', 'OHE__x0_Moong', 'OHE__x0_Mustard Oil',\n",
       "       'OHE__x0_Onion', 'OHE__x0_Palm oil', 'OHE__x0_Potato',\n",
       "       'OHE__x0_Rice', 'OHE__x0_Salt', 'OHE__x0_Soya oil',\n",
       "       'OHE__x0_Sugar', 'OHE__x0_Sunflower oil', 'OHE__x0_Tea',\n",
       "       'OHE__x0_Tomato', 'OHE__x0_Tur', 'OHE__x0_Urad',\n",
       "       'OHE__x0_Vanaspati oil', 'OHE__x0_Wheat', 'OHE__x1_Spring',\n",
       "       'OHE__x1_Summer', 'OHE__x1_Winter'], dtype=object)"
      ]
     },
     "execution_count": 11,
     "metadata": {},
     "output_type": "execute_result"
    }
   ],
   "source": [
    "preprocesser.get_feature_names_out()"
   ]
  },
  {
   "cell_type": "code",
   "execution_count": 12,
   "id": "45ecaa8e-7b12-4737-923e-e1a6cd9a9ca4",
   "metadata": {},
   "outputs": [
    {
     "name": "stdout",
     "output_type": "stream",
     "text": [
      "lr : mae : 1.610025244438227e-14 score : 1.0\n",
      "lss : mae : 0.8665534614527874 score : 0.9997411013583232\n",
      "Rid : mae : 0.04878224898287542 score : 0.9999989436755323\n",
      "Dtr : mae : 1.0355454545454543 score : 0.9993216995110177\n"
     ]
    }
   ],
   "source": [
    "#linear regression\n",
    "from sklearn.linear_model import LinearRegression,Lasso,Ridge\n",
    "from sklearn.neighbors import KNeighborsRegressor\n",
    "from sklearn.tree import DecisionTreeRegressor\n",
    "from sklearn.metrics import mean_absolute_error,r2_score\n",
    "\n",
    "\n",
    "models = {\n",
    "    'lr':LinearRegression(),\n",
    "    'lss':Lasso(),\n",
    "    'Rid':Ridge(),\n",
    "    'Dtr':DecisionTreeRegressor()\n",
    "}\n",
    "for name, md in models.items():\n",
    "    md.fit(X_train_dummy,y_train)\n",
    "    y_pred = md.predict(X_test_dummy)\n",
    "    \n",
    "    print(f\"{name} : mae : {mean_absolute_error(y_test,y_pred)} score : {r2_score(y_test,y_pred)}\")"
   ]
  },
  {
   "cell_type": "code",
   "execution_count": 14,
   "id": "b3d9e993-4982-4c18-90ca-d5fef1a71ded",
   "metadata": {},
   "outputs": [
    {
     "data": {
      "text/plain": [
       "array([ 94.66 ,  38.865, 209.025, 153.255,  43.455, 168.605,  29.015,\n",
       "        65.625, 205.265,  53.145, 209.285,  63.555, 170.6  , 166.315,\n",
       "       196.295,  50.58 ,  53.82 ,  35.835,  64.835, 197.09 ,  86.535,\n",
       "        76.365,  23.185,  63.455,  88.01 ,  49.78 , 101.34 ,  97.855,\n",
       "        45.495,  49.17 , 181.84 , 154.84 ,  43.045,  67.11 ,  78.88 ,\n",
       "        37.565,  34.86 ,  58.825,  44.345,  80.825, 139.925, 172.005,\n",
       "       165.965,  40.055,  57.845, 204.765,  15.005,  70.67 ,  69.015,\n",
       "       134.395, 199.545,  72.28 ,  63.995,  39.31 ,  46.615, 162.36 ,\n",
       "        38.09 ,  46.32 , 241.08 ,  99.345, 111.24 , 146.03 , 173.225,\n",
       "        88.76 ,  42.51 , 168.97 ,  56.98 ,  55.19 , 191.845,  42.145,\n",
       "        63.485,  38.03 ,  34.475,  33.575, 197.43 ,  96.555,  45.795,\n",
       "        43.36 , 171.51 ,  72.75 , 216.24 ,  66.2  ,  58.615,  68.23 ,\n",
       "       193.86 ,  90.975, 203.815,  39.53 ,  62.525, 220.655,  44.94 ,\n",
       "        77.72 ,  27.855,  30.58 ,  40.25 , 175.025, 129.095,  58.115,\n",
       "       208.495, 100.01 , 220.87 ,  80.765,  43.67 ,  29.25 ,  37.515,\n",
       "        57.925, 103.775,  42.905,  91.21 ,  65.945,  38.545,  31.18 ,\n",
       "        42.345,  60.125, 196.115,  68.52 ,  39.165, 202.41 ,  28.31 ,\n",
       "        76.735, 165.165, 187.53 , 198.705,  55.16 , 196.855,  63.805,\n",
       "       254.345,  91.345, 171.07 ,  55.365,  66.785,  46.68 ,  45.815,\n",
       "        53.62 ,  79.905,  45.435,  69.32 ,  74.88 , 196.33 , 236.03 ,\n",
       "       100.96 ,  36.015,  64.375,  45.355, 170.195,  53.425,  74.87 ,\n",
       "        48.695,  47.19 ,  79.635,  45.995,  46.72 ,  88.07 ,  68.11 ,\n",
       "       174.59 , 101.825,  78.705, 202.595,  28.64 , 174.275,  99.34 ,\n",
       "       162.035, 145.245,  67.405, 186.555,  68.865,  50.985,  43.715,\n",
       "        77.875, 107.71 ,  55.44 , 144.575,  44.815,  45.05 , 192.915,\n",
       "        55.84 , 105.395, 206.81 , 104.31 , 179.775, 179.345,  44.365,\n",
       "       205.08 ,  89.605, 184.41 ,  91.945,  40.155,  59.06 , 143.1  ,\n",
       "        94.29 ,  57.31 , 198.83 ,  86.355, 174.97 , 165.54 ,  36.53 ,\n",
       "        61.36 ,  91.42 , 186.735,  45.705, 174.17 , 174.885, 170.195,\n",
       "        73.25 , 207.035, 106.255,  76.67 ,  87.47 ,  70.975,  67.08 ,\n",
       "       243.76 , 231.09 ,  61.465,  88.99 , 253.965,  22.92 , 242.18 ,\n",
       "        82.9  , 190.32 ,  59.905, 155.34 ,  30.21 ,  30.32 ,  63.72 ,\n",
       "        74.135,  62.835,  35.705,  71.11 , 176.36 ,  42.615,  49.585,\n",
       "        75.71 ,  56.9  ,  30.525, 155.25 , 176.855,  55.45 ,  43.135,\n",
       "        58.185,  39.895,  52.07 ,  49.31 ,  56.39 , 201.88 ,  59.51 ,\n",
       "       178.885,  16.315,  95.325, 103.92 ,  61.475,  49.33 ,  99.65 ,\n",
       "        62.81 , 192.025,  63.35 , 186.39 ,  47.93 ,  29.65 ,  57.43 ,\n",
       "       201.205, 180.025,  72.32 ,  84.01 , 203.01 , 197.455,  67.495,\n",
       "        37.565,  15.95 ,  98.065,  85.605,  51.855,  36.335,  87.295,\n",
       "        36.975,  30.285,  38.83 ,  81.965,  19.235,  38.575,  98.005,\n",
       "        79.34 ,  50.55 ,  84.1  , 172.11 ,  40.855, 183.17 ,  45.33 ,\n",
       "        53.23 ,  35.9  ,  63.28 ,  67.45 , 167.485,  62.235, 208.905,\n",
       "        44.4  , 163.57 , 191.965,  79.01 ,  25.455,  67.245,  21.515,\n",
       "       156.19 ,  63.12 ,  12.135,  88.87 ,  26.025,  56.425,  94.62 ,\n",
       "       148.815,  36.5  , 252.73 , 163.5  ,  61.715,  43.71 ,  75.31 ,\n",
       "        64.265,  61.08 ,  95.6  ,  44.785,  48.505,  80.205,  53.655,\n",
       "       173.865,  46.405,  81.485,  52.365,  86.535,  63.465, 168.96 ,\n",
       "        47.99 ,  78.565,  30.155,  26.925,  55.925, 103.72 , 163.675,\n",
       "        57.13 ,  58.35 ,  92.535,  39.18 , 243.86 , 211.32 ,  50.02 ,\n",
       "        52.32 ,  74.735, 183.16 , 152.185, 206.1  ,  90.24 ,  28.475,\n",
       "        61.39 , 161.345,  60.16 , 225.64 ,  34.465,  54.465,  69.775,\n",
       "       197.075, 179.215, 158.92 ,  85.81 ,  34.585,  44.89 ,  61.675,\n",
       "        90.295,  57.82 ,  60.1  , 211.01 ,  87.08 ,  48.71 ,  52.87 ,\n",
       "       196.645, 172.465,  54.355, 211.765,  59.71 ,  27.295, 147.355,\n",
       "       164.12 ,  50.41 ,  35.065, 218.18 , 171.18 ,  50.005,  27.605,\n",
       "       183.155,  66.45 ,  79.51 , 207.04 , 189.565,  49.14 , 209.645,\n",
       "        18.13 , 188.41 ,  63.955,  45.63 , 136.16 ,  83.57 ,  75.625,\n",
       "        60.32 ,  40.67 ,  37.185,  56.15 ,  20.155, 100.28 , 190.345,\n",
       "        41.775,  31.955,  57.535,  37.35 ,  60.465,  55.36 , 207.125,\n",
       "       177.925, 175.78 ,  82.17 , 150.695,  58.51 , 206.56 ,  30.205,\n",
       "        81.31 ,  49.67 , 235.68 , 106.905,  67.695,  74.84 ,  25.6  ,\n",
       "        48.045,  82.   ,  42.455,  41.76 ,  48.87 , 148.73 ,  27.16 ,\n",
       "        43.725, 166.18 ,  77.785, 170.235,  79.19 , 104.645])"
      ]
     },
     "execution_count": 14,
     "metadata": {},
     "output_type": "execute_result"
    }
   ],
   "source": [
    "lr = LinearRegression()\n",
    "lr.fit(X_train_dummy,y_train)\n",
    "lr.predict(X_test_dummy)"
   ]
  },
  {
   "cell_type": "code",
   "execution_count": 15,
   "id": "9c8cf268-5e2a-482b-99bb-ce52510d33e2",
   "metadata": {},
   "outputs": [],
   "source": [
    "def prediction(food_items,season,min_prize,max_prize):\n",
    "    # Create an array of the input features\n",
    "    features = np.array([[food_items,season,min_prize,max_prize]], dtype=object)\n",
    "\n",
    "    # Transform the features using the preprocessor\n",
    "    transformed_features = preprocesser.transform(features)\n",
    "\n",
    "    # Make the prediction\n",
    "    predicted_yield = lr.predict(transformed_features).reshape(1, -1)\n",
    "\n",
    "    return predicted_yield[0]\n",
    "result = prediction('Gram','Spring',63.72,86.09)\n"
   ]
  },
  {
   "cell_type": "code",
   "execution_count": 16,
   "id": "b6da2f63-9e05-4352-9460-d1e27e72bacb",
   "metadata": {},
   "outputs": [
    {
     "data": {
      "text/plain": [
       "array([74.905])"
      ]
     },
     "execution_count": 16,
     "metadata": {},
     "output_type": "execute_result"
    }
   ],
   "source": [
    "result"
   ]
  },
  {
   "cell_type": "code",
   "execution_count": null,
   "id": "1eb1c066-c9a8-4317-a2cd-7e4062347f49",
   "metadata": {},
   "outputs": [],
   "source": []
  }
 ],
 "metadata": {
  "kernelspec": {
   "display_name": "Python 3 (ipykernel)",
   "language": "python",
   "name": "python3"
  },
  "language_info": {
   "codemirror_mode": {
    "name": "ipython",
    "version": 3
   },
   "file_extension": ".py",
   "mimetype": "text/x-python",
   "name": "python",
   "nbconvert_exporter": "python",
   "pygments_lexer": "ipython3",
   "version": "3.12.5"
  }
 },
 "nbformat": 4,
 "nbformat_minor": 5
}

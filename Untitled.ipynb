{
 "cells": [
  {
   "cell_type": "code",
   "execution_count": 1,
   "id": "7fc87c67-a5a5-4a12-a274-ab46269f724f",
   "metadata": {},
   "outputs": [],
   "source": [
    "import pandas as pd\n",
    "import numpy as np\n",
    "import seaborn as sns"
   ]
  },
  {
   "cell_type": "code",
   "execution_count": 2,
   "id": "b7ab01ac-1709-407b-a75b-2f7254dbd947",
   "metadata": {},
   "outputs": [],
   "source": [
    "df=pd.read_csv(\"mandi food rates.csv\")"
   ]
  },
  {
   "cell_type": "code",
   "execution_count": 3,
   "id": "684c6a74-7988-48b8-b0db-980c4a485e5f",
   "metadata": {},
   "outputs": [
    {
     "data": {
      "text/html": [
       "<div>\n",
       "<style scoped>\n",
       "    .dataframe tbody tr th:only-of-type {\n",
       "        vertical-align: middle;\n",
       "    }\n",
       "\n",
       "    .dataframe tbody tr th {\n",
       "        vertical-align: top;\n",
       "    }\n",
       "\n",
       "    .dataframe thead th {\n",
       "        text-align: right;\n",
       "    }\n",
       "</style>\n",
       "<table border=\"1\" class=\"dataframe\">\n",
       "  <thead>\n",
       "    <tr style=\"text-align: right;\">\n",
       "      <th></th>\n",
       "      <th>State</th>\n",
       "      <th>District</th>\n",
       "      <th>Market</th>\n",
       "      <th>Commodity</th>\n",
       "      <th>Variety</th>\n",
       "      <th>Grade</th>\n",
       "      <th>Arrival_Date</th>\n",
       "      <th>Min_x0020_Price</th>\n",
       "      <th>Max_x0020_Price</th>\n",
       "      <th>Modal_x0020_Price</th>\n",
       "    </tr>\n",
       "  </thead>\n",
       "  <tbody>\n",
       "    <tr>\n",
       "      <th>0</th>\n",
       "      <td>Andhra Pradesh</td>\n",
       "      <td>Guntur</td>\n",
       "      <td>Tenali</td>\n",
       "      <td>Black Gram (Urd Beans)(Whole)</td>\n",
       "      <td>Black Gram (Whole)</td>\n",
       "      <td>FAQ</td>\n",
       "      <td>19/08/2024</td>\n",
       "      <td>8600</td>\n",
       "      <td>8800</td>\n",
       "      <td>8700</td>\n",
       "    </tr>\n",
       "    <tr>\n",
       "      <th>1</th>\n",
       "      <td>Andhra Pradesh</td>\n",
       "      <td>Kurnool</td>\n",
       "      <td>Nandyal</td>\n",
       "      <td>Bengal Gram(Gram)(Whole)</td>\n",
       "      <td>Desi (Whole)</td>\n",
       "      <td>FAQ</td>\n",
       "      <td>19/08/2024</td>\n",
       "      <td>5500</td>\n",
       "      <td>5500</td>\n",
       "      <td>5500</td>\n",
       "    </tr>\n",
       "    <tr>\n",
       "      <th>2</th>\n",
       "      <td>Himachal Pradesh</td>\n",
       "      <td>Bilaspur</td>\n",
       "      <td>Bilaspur</td>\n",
       "      <td>Onion</td>\n",
       "      <td>Other</td>\n",
       "      <td>FAQ</td>\n",
       "      <td>19/08/2024</td>\n",
       "      <td>4000</td>\n",
       "      <td>4200</td>\n",
       "      <td>4100</td>\n",
       "    </tr>\n",
       "    <tr>\n",
       "      <th>3</th>\n",
       "      <td>Himachal Pradesh</td>\n",
       "      <td>Kangra</td>\n",
       "      <td>Kangra</td>\n",
       "      <td>Onion</td>\n",
       "      <td>Other</td>\n",
       "      <td>FAQ</td>\n",
       "      <td>19/08/2024</td>\n",
       "      <td>4200</td>\n",
       "      <td>4500</td>\n",
       "      <td>4300</td>\n",
       "    </tr>\n",
       "    <tr>\n",
       "      <th>4</th>\n",
       "      <td>Himachal Pradesh</td>\n",
       "      <td>Kangra</td>\n",
       "      <td>Kangra(Jaisinghpur)</td>\n",
       "      <td>Onion</td>\n",
       "      <td>1st Sort</td>\n",
       "      <td>FAQ</td>\n",
       "      <td>19/08/2024</td>\n",
       "      <td>4500</td>\n",
       "      <td>4600</td>\n",
       "      <td>4550</td>\n",
       "    </tr>\n",
       "  </tbody>\n",
       "</table>\n",
       "</div>"
      ],
      "text/plain": [
       "              State  District               Market  \\\n",
       "0    Andhra Pradesh    Guntur               Tenali   \n",
       "1    Andhra Pradesh   Kurnool              Nandyal   \n",
       "2  Himachal Pradesh  Bilaspur             Bilaspur   \n",
       "3  Himachal Pradesh    Kangra               Kangra   \n",
       "4  Himachal Pradesh    Kangra  Kangra(Jaisinghpur)   \n",
       "\n",
       "                       Commodity             Variety Grade Arrival_Date  \\\n",
       "0  Black Gram (Urd Beans)(Whole)  Black Gram (Whole)   FAQ   19/08/2024   \n",
       "1       Bengal Gram(Gram)(Whole)        Desi (Whole)   FAQ   19/08/2024   \n",
       "2                          Onion               Other   FAQ   19/08/2024   \n",
       "3                          Onion               Other   FAQ   19/08/2024   \n",
       "4                          Onion            1st Sort   FAQ   19/08/2024   \n",
       "\n",
       "   Min_x0020_Price  Max_x0020_Price  Modal_x0020_Price  \n",
       "0             8600             8800               8700  \n",
       "1             5500             5500               5500  \n",
       "2             4000             4200               4100  \n",
       "3             4200             4500               4300  \n",
       "4             4500             4600               4550  "
      ]
     },
     "execution_count": 3,
     "metadata": {},
     "output_type": "execute_result"
    }
   ],
   "source": [
    "df.head()"
   ]
  },
  {
   "cell_type": "code",
   "execution_count": 4,
   "id": "f588709a-00ec-4070-a65e-bf4254fa0160",
   "metadata": {},
   "outputs": [
    {
     "name": "stdout",
     "output_type": "stream",
     "text": [
      "<class 'pandas.core.frame.DataFrame'>\n",
      "RangeIndex: 678 entries, 0 to 677\n",
      "Data columns (total 10 columns):\n",
      " #   Column             Non-Null Count  Dtype \n",
      "---  ------             --------------  ----- \n",
      " 0   State              678 non-null    object\n",
      " 1   District           678 non-null    object\n",
      " 2   Market             678 non-null    object\n",
      " 3   Commodity          678 non-null    object\n",
      " 4   Variety            678 non-null    object\n",
      " 5   Grade              678 non-null    object\n",
      " 6   Arrival_Date       678 non-null    object\n",
      " 7   Min_x0020_Price    678 non-null    int64 \n",
      " 8   Max_x0020_Price    678 non-null    int64 \n",
      " 9   Modal_x0020_Price  678 non-null    int64 \n",
      "dtypes: int64(3), object(7)\n",
      "memory usage: 53.1+ KB\n"
     ]
    }
   ],
   "source": [
    "df.info()"
   ]
  },
  {
   "cell_type": "code",
   "execution_count": 5,
   "id": "03b73a43-531b-4f66-87ad-0c370a734c52",
   "metadata": {},
   "outputs": [
    {
     "data": {
      "text/plain": [
       "State                0\n",
       "District             0\n",
       "Market               0\n",
       "Commodity            0\n",
       "Variety              0\n",
       "Grade                0\n",
       "Arrival_Date         0\n",
       "Min_x0020_Price      0\n",
       "Max_x0020_Price      0\n",
       "Modal_x0020_Price    0\n",
       "dtype: int64"
      ]
     },
     "execution_count": 5,
     "metadata": {},
     "output_type": "execute_result"
    }
   ],
   "source": [
    "df.isnull().sum()"
   ]
  },
  {
   "cell_type": "code",
   "execution_count": 6,
   "id": "bd3f689a-92e6-4db1-8118-92d10c36ed69",
   "metadata": {},
   "outputs": [
    {
     "data": {
      "text/plain": [
       "0"
      ]
     },
     "execution_count": 6,
     "metadata": {},
     "output_type": "execute_result"
    }
   ],
   "source": [
    "df.duplicated().sum()"
   ]
  },
  {
   "cell_type": "code",
   "execution_count": 7,
   "id": "dd7624f6-28aa-4d3c-9bee-b620b9aa8709",
   "metadata": {},
   "outputs": [],
   "source": [
    "a=df.describe()"
   ]
  },
  {
   "cell_type": "code",
   "execution_count": 8,
   "id": "01151b34-8cfc-48e4-b83d-1a1462c0065b",
   "metadata": {},
   "outputs": [
    {
     "data": {
      "text/html": [
       "<div>\n",
       "<style scoped>\n",
       "    .dataframe tbody tr th:only-of-type {\n",
       "        vertical-align: middle;\n",
       "    }\n",
       "\n",
       "    .dataframe tbody tr th {\n",
       "        vertical-align: top;\n",
       "    }\n",
       "\n",
       "    .dataframe thead th {\n",
       "        text-align: right;\n",
       "    }\n",
       "</style>\n",
       "<table border=\"1\" class=\"dataframe\">\n",
       "  <thead>\n",
       "    <tr style=\"text-align: right;\">\n",
       "      <th></th>\n",
       "      <th>Min_x0020_Price</th>\n",
       "      <th>Max_x0020_Price</th>\n",
       "      <th>Modal_x0020_Price</th>\n",
       "    </tr>\n",
       "  </thead>\n",
       "  <tbody>\n",
       "    <tr>\n",
       "      <th>Min_x0020_Price</th>\n",
       "      <td>1.000000</td>\n",
       "      <td>0.999782</td>\n",
       "      <td>0.999789</td>\n",
       "    </tr>\n",
       "    <tr>\n",
       "      <th>Max_x0020_Price</th>\n",
       "      <td>0.999782</td>\n",
       "      <td>1.000000</td>\n",
       "      <td>0.999987</td>\n",
       "    </tr>\n",
       "    <tr>\n",
       "      <th>Modal_x0020_Price</th>\n",
       "      <td>0.999789</td>\n",
       "      <td>0.999987</td>\n",
       "      <td>1.000000</td>\n",
       "    </tr>\n",
       "  </tbody>\n",
       "</table>\n",
       "</div>"
      ],
      "text/plain": [
       "                   Min_x0020_Price  Max_x0020_Price  Modal_x0020_Price\n",
       "Min_x0020_Price           1.000000         0.999782           0.999789\n",
       "Max_x0020_Price           0.999782         1.000000           0.999987\n",
       "Modal_x0020_Price         0.999789         0.999987           1.000000"
      ]
     },
     "execution_count": 8,
     "metadata": {},
     "output_type": "execute_result"
    }
   ],
   "source": [
    "a.corr()"
   ]
  },
  {
   "cell_type": "code",
   "execution_count": 9,
   "id": "8145edd5-0811-4765-a075-00e46d6c0acb",
   "metadata": {},
   "outputs": [
    {
     "data": {
      "text/plain": [
       "8"
      ]
     },
     "execution_count": 9,
     "metadata": {},
     "output_type": "execute_result"
    }
   ],
   "source": [
    "len(a)"
   ]
  },
  {
   "cell_type": "code",
   "execution_count": 10,
   "id": "7c2ab6df-9a5a-458e-8f18-c3b22dcf5cd2",
   "metadata": {},
   "outputs": [],
   "source": [
    "list1=['Other','Desi (Whole)','1st Sort','IR-8', 'Mill Quality', 'Bengal Gram Dal','Hybrid',\"Bellary\",'Jyoti','Green (Whole)', 'Green Gram Dhall-I', 'Fine','(Red Nanital)','Local','Small','Kala Masoor New','Black Gram (Whole)','Kala Masoor New','Sonalika','Average (Whole)','Black Gram Dal','Big','Mataa Parboiled','Pusa-Red','Bengal Gram (Split)','Kufri Megha','Dara']"
   ]
  },
  {
   "cell_type": "code",
   "execution_count": 11,
   "id": "0c902e35-26a0-48f7-815c-7268b033bb59",
   "metadata": {},
   "outputs": [],
   "source": [
    "df=df[df.Variety.isin(list1) == False]"
   ]
  },
  {
   "cell_type": "code",
   "execution_count": 12,
   "id": "1111dce7-fd4d-43ec-9845-e89e763b1661",
   "metadata": {},
   "outputs": [],
   "source": [
    "var=df['Variety']"
   ]
  },
  {
   "cell_type": "code",
   "execution_count": 13,
   "id": "5b2ec8ab-9e28-451a-ab84-742faf377a04",
   "metadata": {},
   "outputs": [],
   "source": [
    "def change(x):\n",
    "    if x==\"Arhar Dal(Tur)\":\n",
    "        return \"Tur\"\n",
    "    if x==\"Masur Dal\":\n",
    "        return \"Masur\"\n",
    "    if x==\"Fine(Basmati)\":\n",
    "        return \"Rice\"\n",
    "\n",
    "    if x==\"Desi\":\n",
    "        return \"Urad\"\n",
    "\n",
    "    if x==\"Green Gram Dal\":\n",
    "        return \"Moong\"\n",
    "\n",
    "    if x==\"Chips\":\n",
    "        return \"Atta\"\n",
    "\n",
    "    if x==\"Chandermukhi\":\n",
    "        return \"Groundnut oil\"\n",
    "\n",
    "    if x==\"Red\":\n",
    "        return \"Soya oil\"\n",
    "\n",
    "    if x==\"Masuri\":\n",
    "        return \"Milk\"\n",
    "\n",
    "    if x==\"Jalander\":\n",
    "        return \"Salt\"\n",
    "\n",
    "    if x==\"Sunflower\":\n",
    "        return \"Sunflower oil\"\n",
    "\n",
    "    if x==\"Badshah\":\n",
    "        return \"Sugar\"\n",
    "\n",
    "    if x==\"U.P. (Split)\":\n",
    "        return \"Gur\"\n",
    "\n",
    "    if x==\"Bold\":\n",
    "        return \"Tea\"\n",
    "\n",
    "    if x==\"Nasik\":\n",
    "        return \"Tomato\"\n",
    "\n",
    "    if x==\"Malwa Shakti\":\n",
    "        return \"Palm oil\"\n",
    "\n",
    "    if x==\"Common\":\n",
    "        return \"Vanaspati oil\"\n",
    "    \n",
    "    return x "
   ]
  },
  {
   "cell_type": "code",
   "execution_count": 14,
   "id": "55b3121b-d60b-4e57-b4fc-f2c17eb861a9",
   "metadata": {},
   "outputs": [],
   "source": [
    "var2=var.apply(change)"
   ]
  },
  {
   "cell_type": "code",
   "execution_count": 15,
   "id": "46b344e1-fc2a-45b6-b479-916c2d3b1cea",
   "metadata": {},
   "outputs": [],
   "source": [
    "df['Variety'] = var2"
   ]
  },
  {
   "cell_type": "code",
   "execution_count": 16,
   "id": "c6e057dc-bdd6-4154-9400-698d5275e3cf",
   "metadata": {},
   "outputs": [
    {
     "data": {
      "text/plain": [
       "array(['Potato', 'Onion', 'Tea', 'Atta', 'Masur', 'Tur', 'Tomato', 'Urad',\n",
       "       'Salt', 'Milk', 'Soya oil', 'Moong', 'Gram', 'Wheat', 'Palm oil',\n",
       "       'Groundnut oil', 'Vanaspati oil', 'Sunflower oil', 'Sugar', 'Gur',\n",
       "       'Mustard Oil', 'Rice'], dtype=object)"
      ]
     },
     "execution_count": 16,
     "metadata": {},
     "output_type": "execute_result"
    }
   ],
   "source": [
    "a=df['Variety'].unique()\n",
    "a"
   ]
  },
  {
   "cell_type": "code",
   "execution_count": 17,
   "id": "0d3700c8-f6d3-465b-8b11-e48c9449aa64",
   "metadata": {},
   "outputs": [
    {
     "data": {
      "text/plain": [
       "22"
      ]
     },
     "execution_count": 17,
     "metadata": {},
     "output_type": "execute_result"
    }
   ],
   "source": [
    "len(a)"
   ]
  },
  {
   "cell_type": "code",
   "execution_count": 18,
   "id": "6882fa2e-e0a5-419a-8dfd-d1aa286bcd99",
   "metadata": {},
   "outputs": [],
   "source": [
    "df=df.drop([\"Commodity\",\"Grade\",\"Market\"],axis=1)"
   ]
  },
  {
   "cell_type": "code",
   "execution_count": 20,
   "id": "1f9d02e9-99d7-4130-9852-36755bb7960e",
   "metadata": {},
   "outputs": [
    {
     "data": {
      "text/html": [
       "<div>\n",
       "<style scoped>\n",
       "    .dataframe tbody tr th:only-of-type {\n",
       "        vertical-align: middle;\n",
       "    }\n",
       "\n",
       "    .dataframe tbody tr th {\n",
       "        vertical-align: top;\n",
       "    }\n",
       "\n",
       "    .dataframe thead th {\n",
       "        text-align: right;\n",
       "    }\n",
       "</style>\n",
       "<table border=\"1\" class=\"dataframe\">\n",
       "  <thead>\n",
       "    <tr style=\"text-align: right;\">\n",
       "      <th></th>\n",
       "      <th>index</th>\n",
       "      <th>State</th>\n",
       "      <th>District</th>\n",
       "      <th>Variety</th>\n",
       "      <th>Arrival_Date</th>\n",
       "      <th>Min_x0020_Price</th>\n",
       "      <th>Max_x0020_Price</th>\n",
       "      <th>Modal_x0020_Price</th>\n",
       "    </tr>\n",
       "  </thead>\n",
       "  <tbody>\n",
       "    <tr>\n",
       "      <th>0</th>\n",
       "      <td>8</td>\n",
       "      <td>Kerala</td>\n",
       "      <td>Kottayam</td>\n",
       "      <td>Potato</td>\n",
       "      <td>19/08/2024</td>\n",
       "      <td>4400</td>\n",
       "      <td>4600</td>\n",
       "      <td>4500</td>\n",
       "    </tr>\n",
       "    <tr>\n",
       "      <th>1</th>\n",
       "      <td>10</td>\n",
       "      <td>Kerala</td>\n",
       "      <td>Kottayam</td>\n",
       "      <td>Onion</td>\n",
       "      <td>19/08/2024</td>\n",
       "      <td>7500</td>\n",
       "      <td>8600</td>\n",
       "      <td>8000</td>\n",
       "    </tr>\n",
       "    <tr>\n",
       "      <th>2</th>\n",
       "      <td>12</td>\n",
       "      <td>Kerala</td>\n",
       "      <td>Malappuram</td>\n",
       "      <td>Tea</td>\n",
       "      <td>19/08/2024</td>\n",
       "      <td>11500</td>\n",
       "      <td>11600</td>\n",
       "      <td>11550</td>\n",
       "    </tr>\n",
       "    <tr>\n",
       "      <th>3</th>\n",
       "      <td>15</td>\n",
       "      <td>Madhya Pradesh</td>\n",
       "      <td>Ujjain</td>\n",
       "      <td>Atta</td>\n",
       "      <td>19/08/2024</td>\n",
       "      <td>2200</td>\n",
       "      <td>2200</td>\n",
       "      <td>2200</td>\n",
       "    </tr>\n",
       "    <tr>\n",
       "      <th>4</th>\n",
       "      <td>16</td>\n",
       "      <td>Manipur</td>\n",
       "      <td>Bishnupur</td>\n",
       "      <td>Masur</td>\n",
       "      <td>19/08/2024</td>\n",
       "      <td>9500</td>\n",
       "      <td>10000</td>\n",
       "      <td>9750</td>\n",
       "    </tr>\n",
       "    <tr>\n",
       "      <th>...</th>\n",
       "      <td>...</td>\n",
       "      <td>...</td>\n",
       "      <td>...</td>\n",
       "      <td>...</td>\n",
       "      <td>...</td>\n",
       "      <td>...</td>\n",
       "      <td>...</td>\n",
       "      <td>...</td>\n",
       "    </tr>\n",
       "    <tr>\n",
       "      <th>140</th>\n",
       "      <td>666</td>\n",
       "      <td>West Bengal</td>\n",
       "      <td>Bankura</td>\n",
       "      <td>Vanaspati oil</td>\n",
       "      <td>19/08/2024</td>\n",
       "      <td>3400</td>\n",
       "      <td>3600</td>\n",
       "      <td>3500</td>\n",
       "    </tr>\n",
       "    <tr>\n",
       "      <th>141</th>\n",
       "      <td>667</td>\n",
       "      <td>West Bengal</td>\n",
       "      <td>Bankura</td>\n",
       "      <td>Vanaspati oil</td>\n",
       "      <td>19/08/2024</td>\n",
       "      <td>3550</td>\n",
       "      <td>3700</td>\n",
       "      <td>3600</td>\n",
       "    </tr>\n",
       "    <tr>\n",
       "      <th>142</th>\n",
       "      <td>668</td>\n",
       "      <td>West Bengal</td>\n",
       "      <td>Birbhum</td>\n",
       "      <td>Vanaspati oil</td>\n",
       "      <td>19/08/2024</td>\n",
       "      <td>3350</td>\n",
       "      <td>3450</td>\n",
       "      <td>3400</td>\n",
       "    </tr>\n",
       "    <tr>\n",
       "      <th>143</th>\n",
       "      <td>674</td>\n",
       "      <td>West Bengal</td>\n",
       "      <td>Jalpaiguri</td>\n",
       "      <td>Tomato</td>\n",
       "      <td>19/08/2024</td>\n",
       "      <td>4300</td>\n",
       "      <td>4500</td>\n",
       "      <td>4400</td>\n",
       "    </tr>\n",
       "    <tr>\n",
       "      <th>144</th>\n",
       "      <td>676</td>\n",
       "      <td>West Bengal</td>\n",
       "      <td>Murshidabad</td>\n",
       "      <td>Soya oil</td>\n",
       "      <td>19/08/2024</td>\n",
       "      <td>3530</td>\n",
       "      <td>3570</td>\n",
       "      <td>3555</td>\n",
       "    </tr>\n",
       "  </tbody>\n",
       "</table>\n",
       "<p>145 rows × 8 columns</p>\n",
       "</div>"
      ],
      "text/plain": [
       "     index           State     District        Variety Arrival_Date  \\\n",
       "0        8          Kerala     Kottayam         Potato   19/08/2024   \n",
       "1       10          Kerala     Kottayam          Onion   19/08/2024   \n",
       "2       12          Kerala   Malappuram            Tea   19/08/2024   \n",
       "3       15  Madhya Pradesh       Ujjain           Atta   19/08/2024   \n",
       "4       16         Manipur    Bishnupur          Masur   19/08/2024   \n",
       "..     ...             ...          ...            ...          ...   \n",
       "140    666     West Bengal      Bankura  Vanaspati oil   19/08/2024   \n",
       "141    667     West Bengal      Bankura  Vanaspati oil   19/08/2024   \n",
       "142    668     West Bengal      Birbhum  Vanaspati oil   19/08/2024   \n",
       "143    674     West Bengal   Jalpaiguri         Tomato   19/08/2024   \n",
       "144    676     West Bengal  Murshidabad       Soya oil   19/08/2024   \n",
       "\n",
       "     Min_x0020_Price  Max_x0020_Price  Modal_x0020_Price  \n",
       "0               4400             4600               4500  \n",
       "1               7500             8600               8000  \n",
       "2              11500            11600              11550  \n",
       "3               2200             2200               2200  \n",
       "4               9500            10000               9750  \n",
       "..               ...              ...                ...  \n",
       "140             3400             3600               3500  \n",
       "141             3550             3700               3600  \n",
       "142             3350             3450               3400  \n",
       "143             4300             4500               4400  \n",
       "144             3530             3570               3555  \n",
       "\n",
       "[145 rows x 8 columns]"
      ]
     },
     "execution_count": 20,
     "metadata": {},
     "output_type": "execute_result"
    }
   ],
   "source": [
    "df.reset_index()"
   ]
  },
  {
   "cell_type": "code",
   "execution_count": null,
   "id": "0f9d18b6-766b-46ad-9f46-6653cf1bff3b",
   "metadata": {},
   "outputs": [],
   "source": []
  },
  {
   "cell_type": "code",
   "execution_count": null,
   "id": "1e62ebe9-b5bb-4568-ab9c-b975ccc08e45",
   "metadata": {},
   "outputs": [],
   "source": []
  }
 ],
 "metadata": {
  "kernelspec": {
   "display_name": "Python 3 (ipykernel)",
   "language": "python",
   "name": "python3"
  },
  "language_info": {
   "codemirror_mode": {
    "name": "ipython",
    "version": 3
   },
   "file_extension": ".py",
   "mimetype": "text/x-python",
   "name": "python",
   "nbconvert_exporter": "python",
   "pygments_lexer": "ipython3",
   "version": "3.12.5"
  }
 },
 "nbformat": 4,
 "nbformat_minor": 5
}

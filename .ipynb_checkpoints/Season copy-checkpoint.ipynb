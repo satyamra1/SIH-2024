{
 "cells": [
  {
   "cell_type": "code",
   "execution_count": 1,
   "id": "073143f0-ca45-45ee-a726-06c8c285fd6d",
   "metadata": {},
   "outputs": [],
   "source": [
    "import pandas as pd\n",
    "import numpy as np\n",
    "import seaborn as sns\n",
    "import matplotlib.pyplot as plt\n",
    "import sklearn.metrics as classification\n",
    "from sklearn import metrics\n",
    "from sklearn import tree"
   ]
  },
  {
   "cell_type": "code",
   "execution_count": 2,
   "id": "6a53afbc-f033-47f6-b2d2-47ce8c912b1d",
   "metadata": {},
   "outputs": [],
   "source": [
    "import pandas as pd\n",
    "df=pd.read_csv('Season.csv')"
   ]
  },
  {
   "cell_type": "code",
   "execution_count": 3,
   "id": "5bce3579-d040-436c-8795-aaba35292c75",
   "metadata": {},
   "outputs": [
    {
     "data": {
      "text/plain": [
       "array(['Gram', 'Onion', 'Vanaspati oil', 'Groundnut oil', 'Sugar', 'Milk',\n",
       "       'Atta', 'Sunflower oil', 'Tea', 'Moong', 'Soya oil', 'Palm oil',\n",
       "       'Rice', 'Gur', 'Tomato', 'Urad', 'Masur', 'Potato', 'Mustard Oil',\n",
       "       'Salt', 'Tur', 'Wheat'], dtype=object)"
      ]
     },
     "execution_count": 3,
     "metadata": {},
     "output_type": "execute_result"
    }
   ],
   "source": [
    "df['food_items'].unique()"
   ]
  },
  {
   "cell_type": "code",
   "execution_count": 4,
   "id": "f40e4e2d-810f-4cb7-b64a-685a69bcc714",
   "metadata": {},
   "outputs": [],
   "source": [
    "df=df.drop(columns=(\"Unnamed: 0\"))"
   ]
  },
  {
   "cell_type": "code",
   "execution_count": 5,
   "id": "33e7f641-4bd1-4d0f-91c7-565ebd8f71c9",
   "metadata": {},
   "outputs": [
    {
     "data": {
      "text/html": [
       "<div>\n",
       "<style scoped>\n",
       "    .dataframe tbody tr th:only-of-type {\n",
       "        vertical-align: middle;\n",
       "    }\n",
       "\n",
       "    .dataframe tbody tr th {\n",
       "        vertical-align: top;\n",
       "    }\n",
       "\n",
       "    .dataframe thead th {\n",
       "        text-align: right;\n",
       "    }\n",
       "</style>\n",
       "<table border=\"1\" class=\"dataframe\">\n",
       "  <thead>\n",
       "    <tr style=\"text-align: right;\">\n",
       "      <th></th>\n",
       "      <th>food_items</th>\n",
       "      <th>season</th>\n",
       "      <th>min_prize</th>\n",
       "      <th>max_prize</th>\n",
       "      <th>date</th>\n",
       "      <th>model prize</th>\n",
       "    </tr>\n",
       "  </thead>\n",
       "  <tbody>\n",
       "    <tr>\n",
       "      <th>0</th>\n",
       "      <td>Gram</td>\n",
       "      <td>Spring</td>\n",
       "      <td>63.72</td>\n",
       "      <td>86.09</td>\n",
       "      <td>2022-09-27</td>\n",
       "      <td>74.905</td>\n",
       "    </tr>\n",
       "    <tr>\n",
       "      <th>1</th>\n",
       "      <td>Onion</td>\n",
       "      <td>Monsoon</td>\n",
       "      <td>42.06</td>\n",
       "      <td>57.28</td>\n",
       "      <td>2023-02-21</td>\n",
       "      <td>49.670</td>\n",
       "    </tr>\n",
       "    <tr>\n",
       "      <th>2</th>\n",
       "      <td>Vanaspati oil</td>\n",
       "      <td>Spring</td>\n",
       "      <td>169.66</td>\n",
       "      <td>208.63</td>\n",
       "      <td>2023-07-22</td>\n",
       "      <td>189.145</td>\n",
       "    </tr>\n",
       "    <tr>\n",
       "      <th>3</th>\n",
       "      <td>Gram</td>\n",
       "      <td>Monsoon</td>\n",
       "      <td>60.94</td>\n",
       "      <td>91.31</td>\n",
       "      <td>2022-12-30</td>\n",
       "      <td>76.125</td>\n",
       "    </tr>\n",
       "    <tr>\n",
       "      <th>4</th>\n",
       "      <td>Groundnut oil</td>\n",
       "      <td>Monsoon</td>\n",
       "      <td>197.46</td>\n",
       "      <td>206.10</td>\n",
       "      <td>2023-10-28</td>\n",
       "      <td>201.780</td>\n",
       "    </tr>\n",
       "    <tr>\n",
       "      <th>...</th>\n",
       "      <td>...</td>\n",
       "      <td>...</td>\n",
       "      <td>...</td>\n",
       "      <td>...</td>\n",
       "      <td>...</td>\n",
       "      <td>...</td>\n",
       "    </tr>\n",
       "    <tr>\n",
       "      <th>2195</th>\n",
       "      <td>Sugar</td>\n",
       "      <td>Monsoon</td>\n",
       "      <td>41.01</td>\n",
       "      <td>58.55</td>\n",
       "      <td>2024-06-08</td>\n",
       "      <td>49.780</td>\n",
       "    </tr>\n",
       "    <tr>\n",
       "      <th>2196</th>\n",
       "      <td>Atta</td>\n",
       "      <td>Monsoon</td>\n",
       "      <td>38.76</td>\n",
       "      <td>51.95</td>\n",
       "      <td>2023-10-04</td>\n",
       "      <td>45.355</td>\n",
       "    </tr>\n",
       "    <tr>\n",
       "      <th>2197</th>\n",
       "      <td>Tea</td>\n",
       "      <td>Winter</td>\n",
       "      <td>104.34</td>\n",
       "      <td>153.85</td>\n",
       "      <td>2023-08-09</td>\n",
       "      <td>129.095</td>\n",
       "    </tr>\n",
       "    <tr>\n",
       "      <th>2198</th>\n",
       "      <td>Gram</td>\n",
       "      <td>Spring</td>\n",
       "      <td>62.48</td>\n",
       "      <td>77.04</td>\n",
       "      <td>2024-07-13</td>\n",
       "      <td>69.760</td>\n",
       "    </tr>\n",
       "    <tr>\n",
       "      <th>2199</th>\n",
       "      <td>Salt</td>\n",
       "      <td>Monsoon</td>\n",
       "      <td>10.07</td>\n",
       "      <td>32.86</td>\n",
       "      <td>2022-08-26</td>\n",
       "      <td>21.465</td>\n",
       "    </tr>\n",
       "  </tbody>\n",
       "</table>\n",
       "<p>2200 rows × 6 columns</p>\n",
       "</div>"
      ],
      "text/plain": [
       "         food_items   season  min_prize  max_prize        date  model prize\n",
       "0              Gram   Spring      63.72      86.09  2022-09-27       74.905\n",
       "1             Onion  Monsoon      42.06      57.28  2023-02-21       49.670\n",
       "2     Vanaspati oil   Spring     169.66     208.63  2023-07-22      189.145\n",
       "3              Gram  Monsoon      60.94      91.31  2022-12-30       76.125\n",
       "4     Groundnut oil  Monsoon     197.46     206.10  2023-10-28      201.780\n",
       "...             ...      ...        ...        ...         ...          ...\n",
       "2195          Sugar  Monsoon      41.01      58.55  2024-06-08       49.780\n",
       "2196           Atta  Monsoon      38.76      51.95  2023-10-04       45.355\n",
       "2197            Tea   Winter     104.34     153.85  2023-08-09      129.095\n",
       "2198           Gram   Spring      62.48      77.04  2024-07-13       69.760\n",
       "2199           Salt  Monsoon      10.07      32.86  2022-08-26       21.465\n",
       "\n",
       "[2200 rows x 6 columns]"
      ]
     },
     "execution_count": 5,
     "metadata": {},
     "output_type": "execute_result"
    }
   ],
   "source": [
    "df"
   ]
  },
  {
   "cell_type": "code",
   "execution_count": 6,
   "id": "e2f50215-82cf-4a18-b8b1-579ed412784f",
   "metadata": {},
   "outputs": [],
   "source": [
    "X = df.iloc[:, :-2]\n",
    "y = df['model prize']"
   ]
  },
  {
   "cell_type": "code",
   "execution_count": 7,
   "id": "a914e337-8492-4a7f-a5f6-300a540af803",
   "metadata": {},
   "outputs": [],
   "source": [
    "X=X.values"
   ]
  },
  {
   "cell_type": "code",
   "execution_count": 8,
   "id": "a9b798da-ec27-40fd-9eda-dcb90a33749e",
   "metadata": {},
   "outputs": [],
   "source": [
    "from sklearn.model_selection import train_test_split\n",
    "X_train, X_test, y_train, y_test = train_test_split(X, y, train_size=0.2, random_state=0, shuffle=True)"
   ]
  },
  {
   "cell_type": "code",
   "execution_count": 9,
   "id": "7c24a95a-b47c-4816-b448-be7012637d78",
   "metadata": {},
   "outputs": [],
   "source": [
    "from sklearn.preprocessing import OneHotEncoder\n",
    "from sklearn.compose import ColumnTransformer\n",
    "from sklearn.preprocessing import StandardScaler\n",
    "ohe = OneHotEncoder(drop='first',sparse_output=False)\n",
    "scale = StandardScaler()\n",
    "\n",
    "preprocesser = ColumnTransformer(\n",
    "        transformers = [\n",
    "            ('StandardScale', scale, [2, 3]),\n",
    "            ('OHE', ohe, [0,1]),\n",
    "        ],\n",
    "        remainder='passthrough'\n",
    ")"
   ]
  },
  {
   "cell_type": "code",
   "execution_count": 10,
   "id": "4d5e2f27-de7b-4122-857a-69cfa62b17ed",
   "metadata": {},
   "outputs": [],
   "source": [
    "X_train_dummy = preprocesser.fit_transform(X_train)\n",
    "X_test_dummy = preprocesser.transform(X_test)"
   ]
  },
  {
   "cell_type": "code",
   "execution_count": 11,
   "id": "75e7a07e-80f4-4a73-8bdf-446ec708730e",
   "metadata": {},
   "outputs": [
    {
     "data": {
      "text/plain": [
       "array(['StandardScale__x2', 'StandardScale__x3', 'OHE__x0_Gram',\n",
       "       'OHE__x0_Groundnut oil', 'OHE__x0_Gur', 'OHE__x0_Masur',\n",
       "       'OHE__x0_Milk', 'OHE__x0_Moong', 'OHE__x0_Mustard Oil',\n",
       "       'OHE__x0_Onion', 'OHE__x0_Palm oil', 'OHE__x0_Potato',\n",
       "       'OHE__x0_Rice', 'OHE__x0_Salt', 'OHE__x0_Soya oil',\n",
       "       'OHE__x0_Sugar', 'OHE__x0_Sunflower oil', 'OHE__x0_Tea',\n",
       "       'OHE__x0_Tomato', 'OHE__x0_Tur', 'OHE__x0_Urad',\n",
       "       'OHE__x0_Vanaspati oil', 'OHE__x0_Wheat', 'OHE__x1_Spring',\n",
       "       'OHE__x1_Summer', 'OHE__x1_Winter'], dtype=object)"
      ]
     },
     "execution_count": 11,
     "metadata": {},
     "output_type": "execute_result"
    }
   ],
   "source": [
    "preprocesser.get_feature_names_out()"
   ]
  },
  {
   "cell_type": "code",
   "execution_count": 12,
   "id": "45ecaa8e-7b12-4737-923e-e1a6cd9a9ca4",
   "metadata": {},
   "outputs": [
    {
     "name": "stdout",
     "output_type": "stream",
     "text": [
      "lr : mae : 1.7486012637846216e-14 score : 1.0\n",
      "lss : mae : 0.9091163136177877 score : 0.9997266298251126\n",
      "Rid : mae : 0.12091206477956916 score : 0.9999935162899636\n",
      "Dtr : mae : 2.2117329545454543 score : 0.9973782800902588\n"
     ]
    }
   ],
   "source": [
    "#linear regression\n",
    "from sklearn.linear_model import LinearRegression,Lasso,Ridge\n",
    "from sklearn.neighbors import KNeighborsRegressor\n",
    "from sklearn.tree import DecisionTreeRegressor\n",
    "from sklearn.metrics import mean_absolute_error,r2_score\n",
    "\n",
    "\n",
    "models = {\n",
    "    'lr':LinearRegression(),\n",
    "    'lss':Lasso(),\n",
    "    'Rid':Ridge(),\n",
    "    'Dtr':DecisionTreeRegressor()\n",
    "}\n",
    "for name, md in models.items():\n",
    "    md.fit(X_train_dummy,y_train)\n",
    "    y_pred = md.predict(X_test_dummy)\n",
    "    \n",
    "    print(f\"{name} : mae : {mean_absolute_error(y_test,y_pred)} score : {r2_score(y_test,y_pred)}\")"
   ]
  },
  {
   "cell_type": "code",
   "execution_count": 13,
   "id": "b3d9e993-4982-4c18-90ca-d5fef1a71ded",
   "metadata": {},
   "outputs": [
    {
     "data": {
      "text/plain": [
       "array([ 94.66 ,  38.865, 209.025, ..., 131.49 ,  98.945, 241.01 ])"
      ]
     },
     "execution_count": 13,
     "metadata": {},
     "output_type": "execute_result"
    }
   ],
   "source": [
    "lr = LinearRegression()\n",
    "lr.fit(X_train_dummy,y_train)\n",
    "lr.predict(X_test_dummy)"
   ]
  },
  {
   "cell_type": "code",
   "execution_count": 14,
   "id": "9c8cf268-5e2a-482b-99bb-ce52510d33e2",
   "metadata": {},
   "outputs": [],
   "source": [
    "def prediction(food_items,season,min_prize,max_prize):\n",
    "    # Create an array of the input features\n",
    "    features = np.array([[food_items,season,min_prize,max_prize]], dtype=object)\n",
    "\n",
    "    # Transform the features using the preprocessor\n",
    "    transformed_features = preprocesser.transform(features)\n",
    "\n",
    "    # Make the prediction\n",
    "    predicted_yield = lr.predict(transformed_features).reshape(1, -1)\n",
    "\n",
    "    return predicted_yield[0]\n",
    "result = prediction('Gram','Spring',63.72,86.09)\n"
   ]
  },
  {
   "cell_type": "code",
   "execution_count": 15,
   "id": "b6da2f63-9e05-4352-9460-d1e27e72bacb",
   "metadata": {},
   "outputs": [
    {
     "data": {
      "text/plain": [
       "array([74.905])"
      ]
     },
     "execution_count": 15,
     "metadata": {},
     "output_type": "execute_result"
    }
   ],
   "source": [
    "result"
   ]
  },
  {
   "cell_type": "code",
   "execution_count": null,
   "id": "1eb1c066-c9a8-4317-a2cd-7e4062347f49",
   "metadata": {},
   "outputs": [],
   "source": []
  }
 ],
 "metadata": {
  "kernelspec": {
   "display_name": "Python 3 (ipykernel)",
   "language": "python",
   "name": "python3"
  },
  "language_info": {
   "codemirror_mode": {
    "name": "ipython",
    "version": 3
   },
   "file_extension": ".py",
   "mimetype": "text/x-python",
   "name": "python",
   "nbconvert_exporter": "python",
   "pygments_lexer": "ipython3",
   "version": "3.12.5"
  }
 },
 "nbformat": 4,
 "nbformat_minor": 5
}
